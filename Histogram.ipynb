{
 "cells": [
  {
   "cell_type": "code",
   "execution_count": 1,
   "id": "446d1e57",
   "metadata": {},
   "outputs": [],
   "source": [
    "import matplotlib.pyplot as plt\n",
    "%matplotlib inline"
   ]
  },
  {
   "cell_type": "markdown",
   "id": "57a4b8e1",
   "metadata": {},
   "source": [
    "<h1>Create Data</h1>"
   ]
  },
  {
   "cell_type": "code",
   "execution_count": 5,
   "id": "7f1ad468",
   "metadata": {},
   "outputs": [],
   "source": [
    "sugar_lavel = [100, 200, 30, 40, 200, 45, 60, 110, 120, 230, 82, 149, 57, 64, 150]"
   ]
  },
  {
   "cell_type": "markdown",
   "id": "88706e2b",
   "metadata": {},
   "source": [
    "<h1>Plot Histogram</h1>"
   ]
  },
  {
   "cell_type": "code",
   "execution_count": 6,
   "id": "d7481259",
   "metadata": {},
   "outputs": [
    {
     "data": {
      "text/plain": [
       "(array([3., 3., 1., 1., 2., 1., 1., 0., 2., 1.]),\n",
       " array([ 30.,  50.,  70.,  90., 110., 130., 150., 170., 190., 210., 230.]),\n",
       " <BarContainer object of 10 artists>)"
      ]
     },
     "execution_count": 6,
     "metadata": {},
     "output_type": "execute_result"
    },
    {
     "data": {
      "image/png": "[encoded data removed]",
      "text/plain": [
       "<Figure size 432x288 with 1 Axes>"
      ]
     },
     "metadata": {
      "needs_background": "light"
     },
     "output_type": "display_data"
    }
   ],
   "source": [
    "plt.hist(sugar_lavel)"
   ]
  },
  {
   "cell_type": "markdown",
   "id": "864cc3a6",
   "metadata": {},
   "source": [
    "<h3>Customization</h3>"
   ]
  },
  {
   "cell_type": "code",
   "execution_count": 9,
   "id": "932200ad",
   "metadata": {},
   "outputs": [
    {
     "data": {
      "text/plain": [
       "(array([7., 5., 3.]),\n",
       " array([ 30.        ,  96.66666667, 163.33333333, 230.        ]),\n",
       " <BarContainer object of 3 artists>)"
      ]
     },
     "execution_count": 9,
     "metadata": {},
     "output_type": "execute_result"
    },
    {
     "data": {
      "image/png": "[encoded data removed]",
      "text/plain": [
       "<Figure size 432x288 with 1 Axes>"
      ]
     },
     "metadata": {
      "needs_background": "light"
     },
     "output_type": "display_data"
    }
   ],
   "source": [
    "plt.hist(sugar_lavel, bins=3, rwidth=0.8)"
   ]
  },
  {
   "cell_type": "markdown",
   "id": "7104a1cf",
   "metadata": {},
   "source": [
    "<h3>Bins customize</h3>"
   ]
  },
  {
   "cell_type": "code",
   "execution_count": 17,
   "id": "24e17f13",
   "metadata": {},
   "outputs": [
    {
     "data": {
      "text/plain": [
       "(array([1., 3., 5.]),\n",
       " array([ 80, 100, 125, 230]),\n",
       " <BarContainer object of 3 artists>)"
      ]
     },
     "execution_count": 17,
     "metadata": {},
     "output_type": "execute_result"
    },
    {
     "data": {
      "image/png": "[encoded data removed]",
      "text/plain": [
       "<Figure size 432x288 with 1 Axes>"
      ]
     },
     "metadata": {
      "needs_background": "light"
     },
     "output_type": "display_data"
    }
   ],
   "source": [
    "plt.hist(sugar_lavel, bins=[80, 100, 125, 230], rwidth=0.8)"
   ]
  },
  {
   "cell_type": "markdown",
   "id": "115deaf0",
   "metadata": {},
   "source": [
    "<h3>Histo type</h3>"
   ]
  },
  {
   "cell_type": "code",
   "execution_count": 21,
   "id": "342deb3d",
   "metadata": {},
   "outputs": [
    {
     "data": {
      "text/plain": [
       "(array([1., 3., 5.]),\n",
       " array([ 80, 100, 125, 230]),\n",
       " [<matplotlib.patches.Polygon at 0x1071df11400>])"
      ]
     },
     "execution_count": 21,
     "metadata": {},
     "output_type": "execute_result"
    },
    {
     "data": {
      "image/png": "[encoded data removed]",
      "text/plain": [
       "<Figure size 432x288 with 1 Axes>"
      ]
     },
     "metadata": {
      "needs_background": "light"
     },
     "output_type": "display_data"
    }
   ],
   "source": [
    "plt.hist(sugar_lavel, bins=[80, 100, 125, 230], rwidth=0.8, color='g', histtype='step')"
   ]
  },
  {
   "cell_type": "markdown",
   "id": "3abb838f",
   "metadata": {},
   "source": [
    "<h1>More samples in one histogram</h1>"
   ]
  },
  {
   "cell_type": "code",
   "execution_count": 22,
   "id": "0f0b1964",
   "metadata": {},
   "outputs": [],
   "source": [
    "sugar_lavel_man = [100, 200, 30, 40, 200, 45, 60, 110, 120, 230, 82, 149, 57, 64, 150]\n",
    "sugar_lavel_woman = [90, 180, 30, 40, 20, 45, 160, 115, 120, 200, 80, 109, 50, 44, 150]"
   ]
  },
  {
   "cell_type": "code",
   "execution_count": 25,
   "id": "57b49b06",
   "metadata": {},
   "outputs": [
    {
     "data": {
      "text/plain": [
       "<matplotlib.legend.Legend at 0x1071df41310>"
      ]
     },
     "execution_count": 25,
     "metadata": {},
     "output_type": "execute_result"
    },
    {
     "data": {
      "image/png": "[encoded data removed]",
      "text/plain": [
       "<Figure size 432x288 with 1 Axes>"
      ]
     },
     "metadata": {
      "needs_background": "light"
     },
     "output_type": "display_data"
    }
   ],
   "source": [
    "plt.xlabel('Sugar Range')\n",
    "plt.ylabel('No. of Patients')\n",
    "plt.title('Blood Sugar Analysis')\n",
    "\n",
    "plt.hist([sugar_lavel_man, sugar_lavel_woman], bins=[80, 100, 125, 230], rwidth=0.8, \n",
    "         color=['green', 'yellow'], label=['man', 'woman'])\n",
    "\n",
    "plt.legend()"
   ]
  },
  {
   "cell_type": "markdown",
   "id": "1048ac57",
   "metadata": {},
   "source": [
    "<h3>Orientation</h3>"
   ]
  },
  {
   "cell_type": "code",
   "execution_count": 26,
   "id": "a9ab0fdd",
   "metadata": {},
   "outputs": [
    {
     "data": {
      "text/plain": [
       "<matplotlib.legend.Legend at 0x1071f0b0280>"
      ]
     },
     "execution_count": 26,
     "metadata": {},
     "output_type": "execute_result"
    },
    {
     "data": {
      "image/png": "[encoded data removed]",
      "text/plain": [
       "<Figure size 432x288 with 1 Axes>"
      ]
     },
     "metadata": {
      "needs_background": "light"
     },
     "output_type": "display_data"
    }
   ],
   "source": [
    "plt.xlabel('Sugar Range')\n",
    "plt.ylabel('No. of Patients')\n",
    "plt.title('Blood Sugar Analysis')\n",
    "\n",
    "plt.hist([sugar_lavel_man, sugar_lavel_woman], bins=[80, 100, 125, 230], rwidth=0.8, \n",
    "         color=['green', 'yellow'], label=['man', 'woman'], orientation='horizontal')\n",
    "\n",
    "plt.legend()"
   ]
  },
  {
   "cell_type": "code",
   "execution_count": null,
   "id": "d2d57d4b",
   "metadata": {},
   "outputs": [],
   "source": []
  }
 ],
 "metadata": {
  "kernelspec": {
   "display_name": "Python 3 (ipykernel)",
   "language": "python",
   "name": "python3"
  },
  "language_info": {
   "codemirror_mode": {
    "name": "ipython",
    "version": 3
   },
   "file_extension": ".py",
   "mimetype": "text/x-python",
   "name": "python",
   "nbconvert_exporter": "python",
   "pygments_lexer": "ipython3",
   "version": "3.8.10"
  }
 },
 "nbformat": 4,
 "nbformat_minor": 5
}
